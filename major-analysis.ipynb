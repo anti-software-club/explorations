{
 "cells": [
  {
   "cell_type": "markdown",
   "metadata": {},
   "source": [
    "### Investigating American Degrees\n",
    "\n",
    "In this notebook, we take a look at https://collegescorecard.ed.gov/data/ and the Most Recent Data by Field of Study (as of Oct 2020)."
   ]
  },
  {
   "cell_type": "markdown",
   "metadata": {},
   "source": [
    "## Data Cleaning"
   ]
  },
  {
   "cell_type": "markdown",
   "metadata": {},
   "source": [
    "# imports\n",
    "import os\n",
    "import re\n",
    "import numpy as np\n",
    "import pandas as pd"
   ]
  },
  {
   "cell_type": "code",
   "execution_count": 62,
   "metadata": {},
   "outputs": [
    {
     "data": {
      "text/html": [
       "<div>\n",
       "<style scoped>\n",
       "    .dataframe tbody tr th:only-of-type {\n",
       "        vertical-align: middle;\n",
       "    }\n",
       "\n",
       "    .dataframe tbody tr th {\n",
       "        vertical-align: top;\n",
       "    }\n",
       "\n",
       "    .dataframe thead th {\n",
       "        text-align: right;\n",
       "    }\n",
       "</style>\n",
       "<table border=\"1\" class=\"dataframe\">\n",
       "  <thead>\n",
       "    <tr style=\"text-align: right;\">\n",
       "      <th></th>\n",
       "      <th>UNITID</th>\n",
       "      <th>OPEID6</th>\n",
       "      <th>INSTNM</th>\n",
       "      <th>CONTROL</th>\n",
       "      <th>MAIN</th>\n",
       "      <th>CIPCODE</th>\n",
       "      <th>CIPDESC</th>\n",
       "      <th>CREDLEV</th>\n",
       "      <th>CREDDESC</th>\n",
       "      <th>COUNT</th>\n",
       "      <th>DEBTMEDIAN</th>\n",
       "      <th>DEBTPAYMENT10YR</th>\n",
       "      <th>DEBTMEAN</th>\n",
       "      <th>TITLEIVCOUNT</th>\n",
       "      <th>EARNINGSCOUNT</th>\n",
       "      <th>MD_EARN_WNE</th>\n",
       "      <th>IPEDSCOUNT1</th>\n",
       "      <th>IPEDSCOUNT2</th>\n",
       "    </tr>\n",
       "  </thead>\n",
       "  <tbody>\n",
       "    <tr>\n",
       "      <th>0</th>\n",
       "      <td>100654.0</td>\n",
       "      <td>1002</td>\n",
       "      <td>Alabama A &amp; M University</td>\n",
       "      <td>Public</td>\n",
       "      <td>1</td>\n",
       "      <td>100</td>\n",
       "      <td>Agriculture, General.</td>\n",
       "      <td>3</td>\n",
       "      <td>Bachelors Degree</td>\n",
       "      <td>PrivacySuppressed</td>\n",
       "      <td>PrivacySuppressed</td>\n",
       "      <td>PrivacySuppressed</td>\n",
       "      <td>PrivacySuppressed</td>\n",
       "      <td>PrivacySuppressed</td>\n",
       "      <td>PrivacySuppressed</td>\n",
       "      <td>PrivacySuppressed</td>\n",
       "      <td>4.0</td>\n",
       "      <td>NaN</td>\n",
       "    </tr>\n",
       "    <tr>\n",
       "      <th>1</th>\n",
       "      <td>100654.0</td>\n",
       "      <td>1002</td>\n",
       "      <td>Alabama A &amp; M University</td>\n",
       "      <td>Public</td>\n",
       "      <td>1</td>\n",
       "      <td>101</td>\n",
       "      <td>Agricultural Business and Management.</td>\n",
       "      <td>3</td>\n",
       "      <td>Bachelors Degree</td>\n",
       "      <td>PrivacySuppressed</td>\n",
       "      <td>PrivacySuppressed</td>\n",
       "      <td>PrivacySuppressed</td>\n",
       "      <td>PrivacySuppressed</td>\n",
       "      <td>PrivacySuppressed</td>\n",
       "      <td>PrivacySuppressed</td>\n",
       "      <td>PrivacySuppressed</td>\n",
       "      <td>NaN</td>\n",
       "      <td>NaN</td>\n",
       "    </tr>\n",
       "    <tr>\n",
       "      <th>2</th>\n",
       "      <td>100654.0</td>\n",
       "      <td>1002</td>\n",
       "      <td>Alabama A &amp; M University</td>\n",
       "      <td>Public</td>\n",
       "      <td>1</td>\n",
       "      <td>109</td>\n",
       "      <td>Animal Sciences.</td>\n",
       "      <td>3</td>\n",
       "      <td>Bachelors Degree</td>\n",
       "      <td>PrivacySuppressed</td>\n",
       "      <td>PrivacySuppressed</td>\n",
       "      <td>PrivacySuppressed</td>\n",
       "      <td>31066</td>\n",
       "      <td>PrivacySuppressed</td>\n",
       "      <td>PrivacySuppressed</td>\n",
       "      <td>PrivacySuppressed</td>\n",
       "      <td>7.0</td>\n",
       "      <td>6.0</td>\n",
       "    </tr>\n",
       "    <tr>\n",
       "      <th>3</th>\n",
       "      <td>100654.0</td>\n",
       "      <td>1002</td>\n",
       "      <td>Alabama A &amp; M University</td>\n",
       "      <td>Public</td>\n",
       "      <td>1</td>\n",
       "      <td>110</td>\n",
       "      <td>Food Science and Technology.</td>\n",
       "      <td>3</td>\n",
       "      <td>Bachelors Degree</td>\n",
       "      <td>PrivacySuppressed</td>\n",
       "      <td>PrivacySuppressed</td>\n",
       "      <td>PrivacySuppressed</td>\n",
       "      <td>PrivacySuppressed</td>\n",
       "      <td>PrivacySuppressed</td>\n",
       "      <td>PrivacySuppressed</td>\n",
       "      <td>PrivacySuppressed</td>\n",
       "      <td>5.0</td>\n",
       "      <td>8.0</td>\n",
       "    </tr>\n",
       "    <tr>\n",
       "      <th>4</th>\n",
       "      <td>100654.0</td>\n",
       "      <td>1002</td>\n",
       "      <td>Alabama A &amp; M University</td>\n",
       "      <td>Public</td>\n",
       "      <td>1</td>\n",
       "      <td>110</td>\n",
       "      <td>Food Science and Technology.</td>\n",
       "      <td>5</td>\n",
       "      <td>Master's Degree</td>\n",
       "      <td>15</td>\n",
       "      <td>PrivacySuppressed</td>\n",
       "      <td>PrivacySuppressed</td>\n",
       "      <td>61527</td>\n",
       "      <td>PrivacySuppressed</td>\n",
       "      <td>PrivacySuppressed</td>\n",
       "      <td>PrivacySuppressed</td>\n",
       "      <td>9.0</td>\n",
       "      <td>10.0</td>\n",
       "    </tr>\n",
       "  </tbody>\n",
       "</table>\n",
       "</div>"
      ],
      "text/plain": [
       "     UNITID  OPEID6                    INSTNM CONTROL  MAIN  CIPCODE  \\\n",
       "0  100654.0    1002  Alabama A & M University  Public     1      100   \n",
       "1  100654.0    1002  Alabama A & M University  Public     1      101   \n",
       "2  100654.0    1002  Alabama A & M University  Public     1      109   \n",
       "3  100654.0    1002  Alabama A & M University  Public     1      110   \n",
       "4  100654.0    1002  Alabama A & M University  Public     1      110   \n",
       "\n",
       "                                 CIPDESC  CREDLEV           CREDDESC  \\\n",
       "0                  Agriculture, General.        3  Bachelors Degree   \n",
       "1  Agricultural Business and Management.        3  Bachelors Degree   \n",
       "2                       Animal Sciences.        3  Bachelors Degree   \n",
       "3           Food Science and Technology.        3  Bachelors Degree   \n",
       "4           Food Science and Technology.        5    Master's Degree   \n",
       "\n",
       "               COUNT         DEBTMEDIAN    DEBTPAYMENT10YR           DEBTMEAN  \\\n",
       "0  PrivacySuppressed  PrivacySuppressed  PrivacySuppressed  PrivacySuppressed   \n",
       "1  PrivacySuppressed  PrivacySuppressed  PrivacySuppressed  PrivacySuppressed   \n",
       "2  PrivacySuppressed  PrivacySuppressed  PrivacySuppressed              31066   \n",
       "3  PrivacySuppressed  PrivacySuppressed  PrivacySuppressed  PrivacySuppressed   \n",
       "4                 15  PrivacySuppressed  PrivacySuppressed              61527   \n",
       "\n",
       "        TITLEIVCOUNT      EARNINGSCOUNT        MD_EARN_WNE  IPEDSCOUNT1  \\\n",
       "0  PrivacySuppressed  PrivacySuppressed  PrivacySuppressed          4.0   \n",
       "1  PrivacySuppressed  PrivacySuppressed  PrivacySuppressed          NaN   \n",
       "2  PrivacySuppressed  PrivacySuppressed  PrivacySuppressed          7.0   \n",
       "3  PrivacySuppressed  PrivacySuppressed  PrivacySuppressed          5.0   \n",
       "4  PrivacySuppressed  PrivacySuppressed  PrivacySuppressed          9.0   \n",
       "\n",
       "   IPEDSCOUNT2  \n",
       "0          NaN  \n",
       "1          NaN  \n",
       "2          6.0  \n",
       "3          8.0  \n",
       "4         10.0  "
      ]
     },
     "execution_count": 62,
     "metadata": {},
     "output_type": "execute_result"
    }
   ],
   "source": [
    "df = pd.read_csv(\"college-fields-of-study.csv\")\n",
    "df.head()"
   ]
  },
  {
   "cell_type": "code",
   "execution_count": 63,
   "metadata": {},
   "outputs": [
    {
     "name": "stdout",
     "output_type": "stream",
     "text": [
      "(216638, 18)\n"
     ]
    }
   ],
   "source": [
    "print(df.shape)"
   ]
  },
  {
   "cell_type": "code",
   "execution_count": 64,
   "metadata": {},
   "outputs": [
    {
     "data": {
      "text/html": [
       "<div>\n",
       "<style scoped>\n",
       "    .dataframe tbody tr th:only-of-type {\n",
       "        vertical-align: middle;\n",
       "    }\n",
       "\n",
       "    .dataframe tbody tr th {\n",
       "        vertical-align: top;\n",
       "    }\n",
       "\n",
       "    .dataframe thead th {\n",
       "        text-align: right;\n",
       "    }\n",
       "</style>\n",
       "<table border=\"1\" class=\"dataframe\">\n",
       "  <thead>\n",
       "    <tr style=\"text-align: right;\">\n",
       "      <th></th>\n",
       "      <th>UNITID</th>\n",
       "      <th>OPEID6</th>\n",
       "      <th>INSTNM</th>\n",
       "      <th>CONTROL</th>\n",
       "      <th>MAIN</th>\n",
       "      <th>CIPCODE</th>\n",
       "      <th>CIPDESC</th>\n",
       "      <th>CREDLEV</th>\n",
       "      <th>CREDDESC</th>\n",
       "      <th>COUNT</th>\n",
       "      <th>DEBTMEDIAN</th>\n",
       "      <th>DEBTPAYMENT10YR</th>\n",
       "      <th>DEBTMEAN</th>\n",
       "      <th>TITLEIVCOUNT</th>\n",
       "      <th>EARNINGSCOUNT</th>\n",
       "      <th>MD_EARN_WNE</th>\n",
       "      <th>IPEDSCOUNT1</th>\n",
       "      <th>IPEDSCOUNT2</th>\n",
       "    </tr>\n",
       "  </thead>\n",
       "  <tbody>\n",
       "    <tr>\n",
       "      <th>15</th>\n",
       "      <td>100654.0</td>\n",
       "      <td>1002</td>\n",
       "      <td>Alabama A &amp; M University</td>\n",
       "      <td>Public</td>\n",
       "      <td>1</td>\n",
       "      <td>1101</td>\n",
       "      <td>Computer and Information Sciences, General.</td>\n",
       "      <td>3</td>\n",
       "      <td>Bachelors Degree</td>\n",
       "      <td>25</td>\n",
       "      <td>36250</td>\n",
       "      <td>376</td>\n",
       "      <td>37194</td>\n",
       "      <td>33</td>\n",
       "      <td>33</td>\n",
       "      <td>54300</td>\n",
       "      <td>17.0</td>\n",
       "      <td>16.0</td>\n",
       "    </tr>\n",
       "    <tr>\n",
       "      <th>24</th>\n",
       "      <td>100654.0</td>\n",
       "      <td>1002</td>\n",
       "      <td>Alabama A &amp; M University</td>\n",
       "      <td>Public</td>\n",
       "      <td>1</td>\n",
       "      <td>1313</td>\n",
       "      <td>Teacher Education and Professional Development...</td>\n",
       "      <td>3</td>\n",
       "      <td>Bachelors Degree</td>\n",
       "      <td>46</td>\n",
       "      <td>31505</td>\n",
       "      <td>327</td>\n",
       "      <td>33085</td>\n",
       "      <td>32</td>\n",
       "      <td>31</td>\n",
       "      <td>25400</td>\n",
       "      <td>24.0</td>\n",
       "      <td>33.0</td>\n",
       "    </tr>\n",
       "    <tr>\n",
       "      <th>27</th>\n",
       "      <td>100654.0</td>\n",
       "      <td>1002</td>\n",
       "      <td>Alabama A &amp; M University</td>\n",
       "      <td>Public</td>\n",
       "      <td>1</td>\n",
       "      <td>1410</td>\n",
       "      <td>Electrical, Electronics and Communications Eng...</td>\n",
       "      <td>3</td>\n",
       "      <td>Bachelors Degree</td>\n",
       "      <td>22</td>\n",
       "      <td>34809</td>\n",
       "      <td>361</td>\n",
       "      <td>36482</td>\n",
       "      <td>33</td>\n",
       "      <td>31</td>\n",
       "      <td>54500</td>\n",
       "      <td>19.0</td>\n",
       "      <td>11.0</td>\n",
       "    </tr>\n",
       "    <tr>\n",
       "      <th>37</th>\n",
       "      <td>100654.0</td>\n",
       "      <td>1002</td>\n",
       "      <td>Alabama A &amp; M University</td>\n",
       "      <td>Public</td>\n",
       "      <td>1</td>\n",
       "      <td>2401</td>\n",
       "      <td>Liberal Arts and Sciences, General Studies and...</td>\n",
       "      <td>3</td>\n",
       "      <td>Bachelors Degree</td>\n",
       "      <td>39</td>\n",
       "      <td>29956</td>\n",
       "      <td>311</td>\n",
       "      <td>30970</td>\n",
       "      <td>30</td>\n",
       "      <td>30</td>\n",
       "      <td>24000</td>\n",
       "      <td>28.0</td>\n",
       "      <td>28.0</td>\n",
       "    </tr>\n",
       "    <tr>\n",
       "      <th>38</th>\n",
       "      <td>100654.0</td>\n",
       "      <td>1002</td>\n",
       "      <td>Alabama A &amp; M University</td>\n",
       "      <td>Public</td>\n",
       "      <td>1</td>\n",
       "      <td>2601</td>\n",
       "      <td>Biology, General.</td>\n",
       "      <td>3</td>\n",
       "      <td>Bachelors Degree</td>\n",
       "      <td>59</td>\n",
       "      <td>34000</td>\n",
       "      <td>353</td>\n",
       "      <td>32783</td>\n",
       "      <td>31</td>\n",
       "      <td>30</td>\n",
       "      <td>23800</td>\n",
       "      <td>30.0</td>\n",
       "      <td>43.0</td>\n",
       "    </tr>\n",
       "  </tbody>\n",
       "</table>\n",
       "</div>"
      ],
      "text/plain": [
       "      UNITID  OPEID6                    INSTNM CONTROL  MAIN  CIPCODE  \\\n",
       "15  100654.0    1002  Alabama A & M University  Public     1     1101   \n",
       "24  100654.0    1002  Alabama A & M University  Public     1     1313   \n",
       "27  100654.0    1002  Alabama A & M University  Public     1     1410   \n",
       "37  100654.0    1002  Alabama A & M University  Public     1     2401   \n",
       "38  100654.0    1002  Alabama A & M University  Public     1     2601   \n",
       "\n",
       "                                              CIPDESC  CREDLEV  \\\n",
       "15        Computer and Information Sciences, General.        3   \n",
       "24  Teacher Education and Professional Development...        3   \n",
       "27  Electrical, Electronics and Communications Eng...        3   \n",
       "37  Liberal Arts and Sciences, General Studies and...        3   \n",
       "38                                  Biology, General.        3   \n",
       "\n",
       "             CREDDESC COUNT DEBTMEDIAN DEBTPAYMENT10YR DEBTMEAN TITLEIVCOUNT  \\\n",
       "15  Bachelors Degree    25      36250             376    37194           33   \n",
       "24  Bachelors Degree    46      31505             327    33085           32   \n",
       "27  Bachelors Degree    22      34809             361    36482           33   \n",
       "37  Bachelors Degree    39      29956             311    30970           30   \n",
       "38  Bachelors Degree    59      34000             353    32783           31   \n",
       "\n",
       "   EARNINGSCOUNT MD_EARN_WNE  IPEDSCOUNT1  IPEDSCOUNT2  \n",
       "15            33       54300         17.0         16.0  \n",
       "24            31       25400         24.0         33.0  \n",
       "27            31       54500         19.0         11.0  \n",
       "37            30       24000         28.0         28.0  \n",
       "38            30       23800         30.0         43.0  "
      ]
     },
     "execution_count": 64,
     "metadata": {},
     "output_type": "execute_result"
    }
   ],
   "source": [
    "new_df = df[df['EARNINGSCOUNT'] != \"PrivacySuppressed\"]\n",
    "new_df = new_df[new_df['COUNT'] != \"PrivacySuppressed\"] ## Remove privacy suppressed rows in these columns\n",
    "new_df.dropna() ## Remove rows with NULL values\n",
    "new_df.head() "
   ]
  },
  {
   "cell_type": "markdown",
   "metadata": {},
   "source": [
    "Unfortunately, we lose a lot of data after cleaning out NULL values and any rows that contain \"PrivacySuppressed\". This string indicates that a "
   ]
  },
  {
   "cell_type": "code",
   "execution_count": 65,
   "metadata": {},
   "outputs": [
    {
     "data": {
      "text/plain": [
       "True"
      ]
     },
     "execution_count": 65,
     "metadata": {},
     "output_type": "execute_result"
    }
   ],
   "source": [
    "new_df['DEBTMEDIAN'].str.contains('PrivacySuppressed').any()"
   ]
  },
  {
   "cell_type": "code",
   "execution_count": 66,
   "metadata": {},
   "outputs": [],
   "source": [
    "new_df = new_df[new_df['DEBTMEDIAN'] != \"PrivacySuppressed\"]"
   ]
  },
  {
   "cell_type": "code",
   "execution_count": 67,
   "metadata": {},
   "outputs": [
    {
     "data": {
      "text/plain": [
       "False"
      ]
     },
     "execution_count": 67,
     "metadata": {},
     "output_type": "execute_result"
    }
   ],
   "source": [
    "# new_df['DEBTPAYMENT10YR'].str.contains('PrivacySuppressed').any()\n",
    "# new_df['DEBTMEAN'].str.contains('PrivacySuppressed').any()\n",
    "# new_df['TITLEIVCOUNT'].str.contains('PrivacySuppressed').any()\n",
    "# new_df['EARNINGSCOUNT'].str.contains('PrivacySuppressed').any()\n",
    "new_df['MD_EARN_WNE'].str.contains('PrivacySuppressed').any() ## Checking to see if any of the columns still contain suppressed data"
   ]
  },
  {
   "cell_type": "code",
   "execution_count": 68,
   "metadata": {},
   "outputs": [
    {
     "name": "stdout",
     "output_type": "stream",
     "text": [
      "(36720, 18)\n"
     ]
    },
    {
     "data": {
      "text/html": [
       "<div>\n",
       "<style scoped>\n",
       "    .dataframe tbody tr th:only-of-type {\n",
       "        vertical-align: middle;\n",
       "    }\n",
       "\n",
       "    .dataframe tbody tr th {\n",
       "        vertical-align: top;\n",
       "    }\n",
       "\n",
       "    .dataframe thead th {\n",
       "        text-align: right;\n",
       "    }\n",
       "</style>\n",
       "<table border=\"1\" class=\"dataframe\">\n",
       "  <thead>\n",
       "    <tr style=\"text-align: right;\">\n",
       "      <th></th>\n",
       "      <th>UNITID</th>\n",
       "      <th>OPEID6</th>\n",
       "      <th>INSTNM</th>\n",
       "      <th>CONTROL</th>\n",
       "      <th>MAIN</th>\n",
       "      <th>CIPCODE</th>\n",
       "      <th>CIPDESC</th>\n",
       "      <th>CREDLEV</th>\n",
       "      <th>CREDDESC</th>\n",
       "      <th>COUNT</th>\n",
       "      <th>DEBTMEDIAN</th>\n",
       "      <th>DEBTPAYMENT10YR</th>\n",
       "      <th>DEBTMEAN</th>\n",
       "      <th>TITLEIVCOUNT</th>\n",
       "      <th>EARNINGSCOUNT</th>\n",
       "      <th>MD_EARN_WNE</th>\n",
       "      <th>IPEDSCOUNT1</th>\n",
       "      <th>IPEDSCOUNT2</th>\n",
       "    </tr>\n",
       "  </thead>\n",
       "  <tbody>\n",
       "    <tr>\n",
       "      <th>15</th>\n",
       "      <td>100654.0</td>\n",
       "      <td>1002</td>\n",
       "      <td>Alabama A &amp; M University</td>\n",
       "      <td>Public</td>\n",
       "      <td>1</td>\n",
       "      <td>1101</td>\n",
       "      <td>Computer and Information Sciences, General.</td>\n",
       "      <td>3</td>\n",
       "      <td>Bachelors Degree</td>\n",
       "      <td>25</td>\n",
       "      <td>36250</td>\n",
       "      <td>376</td>\n",
       "      <td>37194</td>\n",
       "      <td>33</td>\n",
       "      <td>33</td>\n",
       "      <td>54300</td>\n",
       "      <td>17.0</td>\n",
       "      <td>16.0</td>\n",
       "    </tr>\n",
       "    <tr>\n",
       "      <th>24</th>\n",
       "      <td>100654.0</td>\n",
       "      <td>1002</td>\n",
       "      <td>Alabama A &amp; M University</td>\n",
       "      <td>Public</td>\n",
       "      <td>1</td>\n",
       "      <td>1313</td>\n",
       "      <td>Teacher Education and Professional Development...</td>\n",
       "      <td>3</td>\n",
       "      <td>Bachelors Degree</td>\n",
       "      <td>46</td>\n",
       "      <td>31505</td>\n",
       "      <td>327</td>\n",
       "      <td>33085</td>\n",
       "      <td>32</td>\n",
       "      <td>31</td>\n",
       "      <td>25400</td>\n",
       "      <td>24.0</td>\n",
       "      <td>33.0</td>\n",
       "    </tr>\n",
       "    <tr>\n",
       "      <th>27</th>\n",
       "      <td>100654.0</td>\n",
       "      <td>1002</td>\n",
       "      <td>Alabama A &amp; M University</td>\n",
       "      <td>Public</td>\n",
       "      <td>1</td>\n",
       "      <td>1410</td>\n",
       "      <td>Electrical, Electronics and Communications Eng...</td>\n",
       "      <td>3</td>\n",
       "      <td>Bachelors Degree</td>\n",
       "      <td>22</td>\n",
       "      <td>34809</td>\n",
       "      <td>361</td>\n",
       "      <td>36482</td>\n",
       "      <td>33</td>\n",
       "      <td>31</td>\n",
       "      <td>54500</td>\n",
       "      <td>19.0</td>\n",
       "      <td>11.0</td>\n",
       "    </tr>\n",
       "    <tr>\n",
       "      <th>37</th>\n",
       "      <td>100654.0</td>\n",
       "      <td>1002</td>\n",
       "      <td>Alabama A &amp; M University</td>\n",
       "      <td>Public</td>\n",
       "      <td>1</td>\n",
       "      <td>2401</td>\n",
       "      <td>Liberal Arts and Sciences, General Studies and...</td>\n",
       "      <td>3</td>\n",
       "      <td>Bachelors Degree</td>\n",
       "      <td>39</td>\n",
       "      <td>29956</td>\n",
       "      <td>311</td>\n",
       "      <td>30970</td>\n",
       "      <td>30</td>\n",
       "      <td>30</td>\n",
       "      <td>24000</td>\n",
       "      <td>28.0</td>\n",
       "      <td>28.0</td>\n",
       "    </tr>\n",
       "    <tr>\n",
       "      <th>38</th>\n",
       "      <td>100654.0</td>\n",
       "      <td>1002</td>\n",
       "      <td>Alabama A &amp; M University</td>\n",
       "      <td>Public</td>\n",
       "      <td>1</td>\n",
       "      <td>2601</td>\n",
       "      <td>Biology, General.</td>\n",
       "      <td>3</td>\n",
       "      <td>Bachelors Degree</td>\n",
       "      <td>59</td>\n",
       "      <td>34000</td>\n",
       "      <td>353</td>\n",
       "      <td>32783</td>\n",
       "      <td>31</td>\n",
       "      <td>30</td>\n",
       "      <td>23800</td>\n",
       "      <td>30.0</td>\n",
       "      <td>43.0</td>\n",
       "    </tr>\n",
       "  </tbody>\n",
       "</table>\n",
       "</div>"
      ],
      "text/plain": [
       "      UNITID  OPEID6                    INSTNM CONTROL  MAIN  CIPCODE  \\\n",
       "15  100654.0    1002  Alabama A & M University  Public     1     1101   \n",
       "24  100654.0    1002  Alabama A & M University  Public     1     1313   \n",
       "27  100654.0    1002  Alabama A & M University  Public     1     1410   \n",
       "37  100654.0    1002  Alabama A & M University  Public     1     2401   \n",
       "38  100654.0    1002  Alabama A & M University  Public     1     2601   \n",
       "\n",
       "                                              CIPDESC  CREDLEV  \\\n",
       "15        Computer and Information Sciences, General.        3   \n",
       "24  Teacher Education and Professional Development...        3   \n",
       "27  Electrical, Electronics and Communications Eng...        3   \n",
       "37  Liberal Arts and Sciences, General Studies and...        3   \n",
       "38                                  Biology, General.        3   \n",
       "\n",
       "             CREDDESC COUNT DEBTMEDIAN DEBTPAYMENT10YR DEBTMEAN TITLEIVCOUNT  \\\n",
       "15  Bachelors Degree    25      36250             376    37194           33   \n",
       "24  Bachelors Degree    46      31505             327    33085           32   \n",
       "27  Bachelors Degree    22      34809             361    36482           33   \n",
       "37  Bachelors Degree    39      29956             311    30970           30   \n",
       "38  Bachelors Degree    59      34000             353    32783           31   \n",
       "\n",
       "   EARNINGSCOUNT MD_EARN_WNE  IPEDSCOUNT1  IPEDSCOUNT2  \n",
       "15            33       54300         17.0         16.0  \n",
       "24            31       25400         24.0         33.0  \n",
       "27            31       54500         19.0         11.0  \n",
       "37            30       24000         28.0         28.0  \n",
       "38            30       23800         30.0         43.0  "
      ]
     },
     "execution_count": 68,
     "metadata": {},
     "output_type": "execute_result"
    }
   ],
   "source": [
    "print(new_df.shape)\n",
    "new_df.head() ## This should be the final dataset after cleaning"
   ]
  },
  {
   "cell_type": "markdown",
   "metadata": {},
   "source": [
    "## Some Major Analysis\n",
    "\n",
    "Here we will look at avg earnings across majors, obviously the major names are varied so we may see a lot of different buckets. First let's see differences between Bachelor's, Master's and Doctorate holders.\n",
    "\n",
    "The column \"MD_EARN_WNE\" represents the earnings by field of study one year after degree completion. Here, we look at how much a graduate of a given degree type earns on average a year after completing their degree."
   ]
  },
  {
   "cell_type": "code",
   "execution_count": 75,
   "metadata": {},
   "outputs": [
    {
     "data": {
      "text/plain": [
       "38509.036113543865"
      ]
     },
     "execution_count": 75,
     "metadata": {},
     "output_type": "execute_result"
    }
   ],
   "source": [
    "## Bachelors\n",
    "bach_df = new_df[new_df['CREDDESC'] == 'Bachelors Degree']\n",
    "np.asarray(bach_df[\"MD_EARN_WNE\"], dtype=np.float).mean() ## Convert to a numpy array without data issues"
   ]
  },
  {
   "cell_type": "code",
   "execution_count": 76,
   "metadata": {},
   "outputs": [
    {
     "name": "stdout",
     "output_type": "stream",
     "text": [
      "(19411, 18)\n"
     ]
    }
   ],
   "source": [
    "print(bach_df.shape)"
   ]
  },
  {
   "cell_type": "code",
   "execution_count": 81,
   "metadata": {},
   "outputs": [
    {
     "data": {
      "text/plain": [
       "56367.92097836312"
      ]
     },
     "execution_count": 81,
     "metadata": {},
     "output_type": "execute_result"
    }
   ],
   "source": [
    "## Masters\n",
    "mast_df = new_df[new_df['CREDDESC'] == \"Master's Degree\"]\n",
    "np.asarray(mast_df[\"MD_EARN_WNE\"], dtype=np.float).mean()"
   ]
  },
  {
   "cell_type": "code",
   "execution_count": 82,
   "metadata": {},
   "outputs": [
    {
     "name": "stdout",
     "output_type": "stream",
     "text": [
      "(6378, 18)\n"
     ]
    }
   ],
   "source": [
    "print(mast_df.shape)"
   ]
  },
  {
   "cell_type": "code",
   "execution_count": 83,
   "metadata": {},
   "outputs": [
    {
     "data": {
      "text/plain": [
       "72919.35483870968"
      ]
     },
     "execution_count": 83,
     "metadata": {},
     "output_type": "execute_result"
    }
   ],
   "source": [
    "## Doctorate Degrees\n",
    "doct_df = new_df[new_df['CREDDESC'] == \"Doctoral Degree\"]\n",
    "np.asarray(doct_df[\"MD_EARN_WNE\"], dtype=np.float).mean()"
   ]
  },
  {
   "cell_type": "code",
   "execution_count": 84,
   "metadata": {},
   "outputs": [
    {
     "name": "stdout",
     "output_type": "stream",
     "text": [
      "(279, 18)\n"
     ]
    }
   ],
   "source": [
    "print(doct_df.shape)"
   ]
  },
  {
   "cell_type": "code",
   "execution_count": null,
   "metadata": {},
   "outputs": [],
   "source": []
  }
 ],
 "metadata": {
  "kernelspec": {
   "display_name": "Python 3",
   "language": "python",
   "name": "python3"
  },
  "language_info": {
   "codemirror_mode": {
    "name": "ipython",
    "version": 3
   },
   "file_extension": ".py",
   "mimetype": "text/x-python",
   "name": "python",
   "nbconvert_exporter": "python",
   "pygments_lexer": "ipython3",
   "version": "3.8.3"
  }
 },
 "nbformat": 4,
 "nbformat_minor": 4
}
